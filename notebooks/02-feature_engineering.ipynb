{
 "cells": [
  {
   "cell_type": "code",
   "execution_count": 45,
   "metadata": {
    "vscode": {
     "languageId": "plaintext"
    }
   },
   "outputs": [],
   "source": [
    "# 导入库\n",
    "import pandas as pd\n",
    "import numpy as np\n",
    "from sklearn.preprocessing import MultiLabelBinarizer\n",
    "from sklearn.preprocessing import MultiLabelBinarizer"
   ]
  },
  {
   "cell_type": "code",
   "execution_count": 37,
   "metadata": {},
   "outputs": [],
   "source": [
    "# 读取清洗后的数据\n",
    "df = pd.read_json(\"../data/cleaned_data.json\", orient=\"records\", encoding=\"utf-8\")"
   ]
  },
  {
   "cell_type": "code",
   "execution_count": 51,
   "metadata": {},
   "outputs": [
    {
     "data": {
      "text/html": [
       "<div>\n",
       "<style scoped>\n",
       "    .dataframe tbody tr th:only-of-type {\n",
       "        vertical-align: middle;\n",
       "    }\n",
       "\n",
       "    .dataframe tbody tr th {\n",
       "        vertical-align: top;\n",
       "    }\n",
       "\n",
       "    .dataframe thead th {\n",
       "        text-align: right;\n",
       "    }\n",
       "</style>\n",
       "<table border=\"1\" class=\"dataframe\">\n",
       "  <thead>\n",
       "    <tr style=\"text-align: right;\">\n",
       "      <th></th>\n",
       "      <th>title</th>\n",
       "      <th>douban_score</th>\n",
       "      <th>watch_time</th>\n",
       "      <th>user_score</th>\n",
       "      <th>year</th>\n",
       "      <th>region</th>\n",
       "      <th>genre</th>\n",
       "      <th>director</th>\n",
       "      <th>cast</th>\n",
       "    </tr>\n",
       "  </thead>\n",
       "  <tbody>\n",
       "    <tr>\n",
       "      <th>0</th>\n",
       "      <td>爱，死亡和机器人 第四季</td>\n",
       "      <td>4.9</td>\n",
       "      <td>2025-05-16 13:26:29</td>\n",
       "      <td>3</td>\n",
       "      <td>2025.0</td>\n",
       "      <td>[美国]</td>\n",
       "      <td>[剧情, 喜剧, 动作, 动画, 恐怖, 奇幻, 冒险]</td>\n",
       "      <td>[大卫·芬奇, 罗伯特·比斯, 安迪·里昂, 吕寅荣, 罗伯特·瓦利, 帕特里克·奥斯本, ...</td>\n",
       "      <td>[红辣椒乐队, 安东尼·凯迪斯]</td>\n",
       "    </tr>\n",
       "    <tr>\n",
       "      <th>1</th>\n",
       "      <td>爱，死亡和机器人 第二季</td>\n",
       "      <td>6.9</td>\n",
       "      <td>2025-05-15 23:24:54</td>\n",
       "      <td>4</td>\n",
       "      <td>2021.0</td>\n",
       "      <td>[美国]</td>\n",
       "      <td>[喜剧, 科幻, 动画, 恐怖, 短片, 奇幻]</td>\n",
       "      <td>[蒂姆·米勒, 肉食部门, 罗伯特·瓦利, 吕寅荣, 里昂·贝雷尔, 多米尼克·博伊丁, 雷...</td>\n",
       "      <td>[诺兰·诺斯, 艾米丽·奥布莱恩]</td>\n",
       "    </tr>\n",
       "    <tr>\n",
       "      <th>2</th>\n",
       "      <td>爱，死亡和机器人 第三季</td>\n",
       "      <td>8.5</td>\n",
       "      <td>2025-05-15 23:24:24</td>\n",
       "      <td>5</td>\n",
       "      <td>2022.0</td>\n",
       "      <td>[美国]</td>\n",
       "      <td>[喜剧, 科幻, 动画, 恐怖, 短片, 奇幻]</td>\n",
       "      <td>[帕特里克·奥斯本, 大卫·芬奇, 埃米莉·迪恩, 罗伯特·比斯, 安迪·里昂, 吕寅荣, ...</td>\n",
       "      <td>[乔什·布雷纳, 加里·安东尼·威廉斯]</td>\n",
       "    </tr>\n",
       "    <tr>\n",
       "      <th>3</th>\n",
       "      <td>马勒冈的超级男孩</td>\n",
       "      <td>NaN</td>\n",
       "      <td>2025-05-11 19:22:01</td>\n",
       "      <td>4</td>\n",
       "      <td>2024.0</td>\n",
       "      <td>[印度]</td>\n",
       "      <td>[剧情, 喜剧]</td>\n",
       "      <td>[里马·卡蒂]</td>\n",
       "      <td>[阿达什·古拉夫, Manjiri, Pupala]</td>\n",
       "    </tr>\n",
       "    <tr>\n",
       "      <th>4</th>\n",
       "      <td>惊天魔盗团</td>\n",
       "      <td>7.8</td>\n",
       "      <td>2025-05-03 12:54:07</td>\n",
       "      <td>4</td>\n",
       "      <td>2013.0</td>\n",
       "      <td>[美国, 法国]</td>\n",
       "      <td>[剧情, 悬疑, 犯罪]</td>\n",
       "      <td>[路易斯·莱特里尔]</td>\n",
       "      <td>[杰西·艾森伯格, 艾拉·菲舍尔]</td>\n",
       "    </tr>\n",
       "  </tbody>\n",
       "</table>\n",
       "</div>"
      ],
      "text/plain": [
       "          title  douban_score          watch_time  user_score    year  \\\n",
       "0  爱，死亡和机器人 第四季           4.9 2025-05-16 13:26:29           3  2025.0   \n",
       "1  爱，死亡和机器人 第二季           6.9 2025-05-15 23:24:54           4  2021.0   \n",
       "2  爱，死亡和机器人 第三季           8.5 2025-05-15 23:24:24           5  2022.0   \n",
       "3      马勒冈的超级男孩           NaN 2025-05-11 19:22:01           4  2024.0   \n",
       "4         惊天魔盗团           7.8 2025-05-03 12:54:07           4  2013.0   \n",
       "\n",
       "     region                         genre  \\\n",
       "0      [美国]  [剧情, 喜剧, 动作, 动画, 恐怖, 奇幻, 冒险]   \n",
       "1      [美国]      [喜剧, 科幻, 动画, 恐怖, 短片, 奇幻]   \n",
       "2      [美国]      [喜剧, 科幻, 动画, 恐怖, 短片, 奇幻]   \n",
       "3      [印度]                      [剧情, 喜剧]   \n",
       "4  [美国, 法国]                  [剧情, 悬疑, 犯罪]   \n",
       "\n",
       "                                            director  \\\n",
       "0  [大卫·芬奇, 罗伯特·比斯, 安迪·里昂, 吕寅荣, 罗伯特·瓦利, 帕特里克·奥斯本, ...   \n",
       "1  [蒂姆·米勒, 肉食部门, 罗伯特·瓦利, 吕寅荣, 里昂·贝雷尔, 多米尼克·博伊丁, 雷...   \n",
       "2  [帕特里克·奥斯本, 大卫·芬奇, 埃米莉·迪恩, 罗伯特·比斯, 安迪·里昂, 吕寅荣, ...   \n",
       "3                                            [里马·卡蒂]   \n",
       "4                                         [路易斯·莱特里尔]   \n",
       "\n",
       "                         cast  \n",
       "0            [红辣椒乐队, 安东尼·凯迪斯]  \n",
       "1           [诺兰·诺斯, 艾米丽·奥布莱恩]  \n",
       "2        [乔什·布雷纳, 加里·安东尼·威廉斯]  \n",
       "3  [阿达什·古拉夫, Manjiri, Pupala]  \n",
       "4           [杰西·艾森伯格, 艾拉·菲舍尔]  "
      ]
     },
     "execution_count": 51,
     "metadata": {},
     "output_type": "execute_result"
    }
   ],
   "source": [
    "# 查看数据\n",
    "df.head(5)"
   ]
  },
  {
   "cell_type": "code",
   "execution_count": 61,
   "metadata": {},
   "outputs": [
    {
     "name": "stdout",
     "output_type": "stream",
     "text": [
      "✅ One-Hot 编码完成，文件保存为 ../data/onehot_encoded_data.json\n"
     ]
    }
   ],
   "source": [
    "# 进行 One-Hot 编码\n",
    "# 需要编码的列\n",
    "multilabel_columns = [\"region\", \"genre\", \"director\", \"cast\"]\n",
    "\n",
    "# 定义一个函数来安全地处理列表，如果不是列表则尝试转换，否则返回空列表\n",
    "def safe_list_conversion(value):\n",
    "    if isinstance(value, list):\n",
    "        return value\n",
    "    elif isinstance(value, str):\n",
    "        # 尝试按逗号分割字符串，并去除首尾空白\n",
    "        return [item.strip() for item in value.split(',')]\n",
    "    elif pd.isna(value):  # 显式检查是否为 NaN\n",
    "        return []\n",
    "    else:\n",
    "        return []\n",
    "\n",
    "# 对需要进行多标签编码的列应用转换函数\n",
    "for col in multilabel_columns:\n",
    "    df[col] = df[col].apply(safe_list_conversion)\n",
    "\n",
    "# 进行 One-Hot 编码\n",
    "encoded_parts = []\n",
    "for col in multilabel_columns:\n",
    "    mlb = MultiLabelBinarizer()\n",
    "    dummies = pd.DataFrame(mlb.fit_transform(df[col]),\n",
    "                           columns=[f\"{col}_{cls}\" for cls in mlb.classes_],\n",
    "                           index=df.index)\n",
    "    encoded_parts.append(dummies)\n",
    "\n",
    "# 合并原始数据（去除多标签列）和编码结果\n",
    "df_encoded = pd.concat([df.drop(columns=multilabel_columns)] + encoded_parts, axis=1)\n",
    "\n",
    "# 保存结果\n",
    "with open(\"../data/onehot_encoded_data.json\", \"w\", encoding=\"utf-8\") as f:\n",
    "    df_encoded.to_json(f, orient=\"records\", force_ascii=False, indent=2)\n",
    "\n",
    "print(\"✅ One-Hot 编码完成，文件保存为 ../data/onehot_encoded_data.json\")"
   ]
  },
  {
   "cell_type": "code",
   "execution_count": null,
   "metadata": {},
   "outputs": [],
   "source": []
  }
 ],
 "metadata": {
  "kernelspec": {
   "display_name": "Python [conda env:base] *",
   "language": "python",
   "name": "conda-base-py"
  },
  "language_info": {
   "codemirror_mode": {
    "name": "ipython",
    "version": 3
   },
   "file_extension": ".py",
   "mimetype": "text/x-python",
   "name": "python",
   "nbconvert_exporter": "python",
   "pygments_lexer": "ipython3",
   "version": "3.12.7"
  }
 },
 "nbformat": 4,
 "nbformat_minor": 4
}
